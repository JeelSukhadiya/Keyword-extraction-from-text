{
 "cells": [
  {
   "cell_type": "code",
   "execution_count": 32,
   "metadata": {},
   "outputs": [],
   "source": [
    "import rake\n",
    "import io\n",
    "import operator"
   ]
  },
  {
   "cell_type": "code",
   "execution_count": 33,
   "metadata": {},
   "outputs": [],
   "source": [
    "stoppath=\"SmartStoplist.txt\""
   ]
  },
  {
   "cell_type": "code",
   "execution_count": 34,
   "metadata": {},
   "outputs": [],
   "source": [
    "rake_object = rake.Rake(stoppath, 5, 3, 4)"
   ]
  },
  {
   "cell_type": "code",
   "execution_count": 35,
   "metadata": {},
   "outputs": [],
   "source": [
    "sample_file=io.open(\"JavaBasics-notes.txt\",'r',encoding=\"iso-8859-1\")"
   ]
  },
  {
   "cell_type": "code",
   "execution_count": 36,
   "metadata": {},
   "outputs": [],
   "source": [
    "text=sample_file.read()"
   ]
  },
  {
   "cell_type": "code",
   "execution_count": 37,
   "metadata": {},
   "outputs": [],
   "source": [
    "keywords=rake_object.run(text)"
   ]
  },
  {
   "cell_type": "code",
   "execution_count": 38,
   "metadata": {},
   "outputs": [
    {
     "data": {
      "text/plain": [
       "[('// java code', 7.007194813409235),\n",
       " ('java runtime system', 6.425),\n",
       " ('++ code', 4.588235294117647),\n",
       " ('byte code', 4.554621848739496),\n",
       " ('primitive types', 4.414285714285715),\n",
       " ('garbage collection', 4.222222222222222),\n",
       " ('java basics', 4.208333333333334),\n",
       " ('java programs', 4.208333333333334),\n",
       " ('import java', 4.208333333333334),\n",
       " ('java language', 4.008333333333334),\n",
       " ('rights reserved', 4.0),\n",
       " ('java objects', 3.75),\n",
       " ('make array', 3.730769230769231),\n",
       " ('string literal', 3.571428571428571),\n",
       " ('allocate memory', 3.5384615384615383),\n",
       " ('array object', 3.4093406593406597),\n",
       " ('button */', 3.374307862679956),\n",
       " ('system', 1.9166666666666667),\n",
       " ('class', 1.8620689655172413),\n",
       " ('program', 1.75),\n",
       " ('array', 1.7307692307692308),\n",
       " ('comments', 1.6923076923076923),\n",
       " ('object', 1.6785714285714286),\n",
       " ('browser', 1.6666666666666667),\n",
       " ('equivalent', 1.6666666666666667),\n",
       " ('constant', 1.625),\n",
       " ('pointer', 1.6),\n",
       " ('applet', 1.5757575757575757),\n",
       " ('string', 1.5714285714285714),\n",
       " ('applications', 1.5555555555555556),\n",
       " ('objects', 1.5416666666666667),\n",
       " ('memory', 1.5384615384615385),\n",
       " ('method', 1.5172413793103448),\n",
       " ('width', 1.5),\n",
       " ('methods', 1.4444444444444444),\n",
       " ('called', 1.4444444444444444),\n",
       " ('applets', 1.4),\n",
       " ('refer', 1.3333333333333333),\n",
       " ('integer', 1.3333333333333333),\n",
       " ('boolean', 1.3333333333333333),\n",
       " ('return', 1.3333333333333333),\n",
       " ('button', 1.2790697674418605),\n",
       " ('button *', 1.2790697674418605),\n",
       " ('reference', 1.2222222222222223),\n",
       " ('operator', 1.2222222222222223),\n",
       " ('platform', 1.2),\n",
       " ('= calloc', 1.2),\n",
       " ('= null', 1.1428571428571428),\n",
       " ('stack', 1.1),\n",
       " ('executed', 1.0),\n",
       " ('effect', 1.0),\n",
       " ('2003 jguru', 1.0),\n",
       " ('println', 1.0),\n",
       " ('buttons', 1.0),\n",
       " ('graphics', 1.0),\n",
       " ('similar', 1.0),\n",
       " ('sizeof', 1.0),\n",
       " ('pointers', 1.0),\n",
       " ('elements', 1.0),\n",
       " ('passed', 1.0)]"
      ]
     },
     "execution_count": 38,
     "metadata": {},
     "output_type": "execute_result"
    }
   ],
   "source": [
    "keywords\n"
   ]
  },
  {
   "cell_type": "code",
   "execution_count": null,
   "metadata": {},
   "outputs": [],
   "source": []
  }
 ],
 "metadata": {
  "kernelspec": {
   "display_name": "Python 3",
   "language": "python",
   "name": "python3"
  },
  "language_info": {
   "codemirror_mode": {
    "name": "ipython",
    "version": 3
   },
   "file_extension": ".py",
   "mimetype": "text/x-python",
   "name": "python",
   "nbconvert_exporter": "python",
   "pygments_lexer": "ipython3",
   "version": "3.6.4"
  }
 },
 "nbformat": 4,
 "nbformat_minor": 2
}
